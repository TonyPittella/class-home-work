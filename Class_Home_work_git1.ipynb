{
 "cells": [
  {
   "cell_type": "markdown",
   "metadata": {},
   "source": [
    "Compound Interest\n",
    "Write a function that computes the compound interest of an intial investment, using principle rate and time\n",
    "\n",
    "Formula for compound interest: A = P(1 + R/100) t\n",
    "\n",
    "Where, A is amount P is principle amount R is the rate and T is the time span.\n",
    "\n",
    "Part 2: Convert function to a method of a class i.e. (class Finances, calc_compound_interest)\n",
    "\n"
   ]
  },
  {
   "cell_type": "code",
   "execution_count": 4,
   "metadata": {},
   "outputs": [
    {
     "name": "stdout",
     "output_type": "stream",
     "text": [
      "Compound interest is 8.011513424892918e+212\n"
     ]
    }
   ],
   "source": [
    "def calc_compound_interest(time, principle, rate):\n",
    "    amount = principle * (pow((1 + rate / 100), time))\n",
    "    c_i = amount - principle\n",
    "    print(\"Compound interest is\", c_i)   \n",
    "calc_compound_interest(10000, 10.25, 5)"
   ]
  },
  {
   "cell_type": "code",
   "execution_count": null,
   "metadata": {},
   "outputs": [],
   "source": [
    "class Finance:\n",
    "    def __init__(self, time, principle, rate):\n",
    "        self.time = time\n",
    "        self.principle =principle\n",
    "        self.rate =rate\n",
    "        \n",
    "    def calc_compound_interest(time, principle, rate):\n",
    "        amount = principle * (pow((1 + rate / 100), time))\n",
    "        CI = amount - principle\n",
    "        print(\"Compound interest is\", CI)\n",
    "#     def __str__():"
   ]
  },
  {
   "cell_type": "markdown",
   "metadata": {},
   "source": [
    "ASCII Calculator\n",
    "ASCII (American Standard Code for Information Interchange), is a character encoding standard for electronic communication. ASCII codes represent text in computers, telecommunications equipment, and other devices.\n",
    "\n",
    "There is a function for finding the ascii value of a character here: https://docs.python.org/3/library/functions.html\n",
    "\n",
    "Write a function that asks the user for input, and then computes the sum of all the ascii values of the characters.\n",
    "\n",
    "\"hello\" -> 104 + 101 + 108 + 108 + 111 = 532\n",
    "\n",
    "Part 2: Given a list of words (from user input) determine which word has the highest ascii value."
   ]
  },
  {
   "cell_type": "code",
   "execution_count": 82,
   "metadata": {},
   "outputs": [
    {
     "name": "stdout",
     "output_type": "stream",
     "text": [
      "Enter the list size : \n",
      "2\n",
      "Hey type a word in here...\n",
      "fd\n",
      "Is this your list?!\n",
      " ['fd']\n",
      "Hey type a word in here...\n",
      "fd\n",
      "Is this your list?!\n",
      " ['fd', 'fd']\n"
     ]
    },
    {
     "data": {
      "text/plain": [
       "[('fd', 0), ('fd', 0)]"
      ]
     },
     "execution_count": 82,
     "metadata": {},
     "output_type": "execute_result"
    }
   ],
   "source": [
    "import pandas as pd\n",
    "# PART 1\n",
    "# def ord_chr():\n",
    "#     words = str(input(\"enter a word for the list...\\n\"))\n",
    "#     total = 0\n",
    "#     for i, v in enumerate(words):\n",
    "#         ord_convert= ord(v)\n",
    "#         total+=ord_convert\n",
    "#         print(f\"{v}-{ord_convert}\")\n",
    "#     return total\n",
    "# ord_chr()  \n",
    "\n",
    "# PART 2\n",
    "\n",
    "# def ord_chr():\n",
    "#     user_words = []\n",
    "#     n = int(input(\"Enter the list size : \\n\"))\n",
    "#     sum_of = []  \n",
    "#     total = 0\n",
    "#     for num in range(n):\n",
    "#         element = str(input(\"Hey type a word in here...\\n\"))\n",
    "#         user_words.append(element)\n",
    "#         for i, v in enumerate(element):\n",
    "#             ord_convert= ord(v)\n",
    "            \n",
    "#             total+=ord_convert\n",
    "            \n",
    "#         sum_of.append((element, total))\n",
    "#         print(\"Is this your list?!\\n\",user_words)\n",
    "#         #print(f\"{v}-{ord_convert}\")       \n",
    "#     return sum_of\n",
    "\n",
    "\"\"\"\n",
    "this guy up there ↑ inadvertently adds them all up as the list getts looped through\n",
    "this guy ↓  does not add\n",
    "i know it involves my total but not sure how to work through it\n",
    "\"\"\"\n",
    "\n",
    "def ord_chr():\n",
    "    user_words = []\n",
    "    n = int(input(\"Enter the list size : \\n\"))\n",
    "    sum_of = []  \n",
    "    total_list = []\n",
    "    total=0\n",
    "    for num in range(n):\n",
    "        element = str(input(\"Hey type a word in here...\\n\"))\n",
    "        user_words.append(element)\n",
    "        for i, v in enumerate(element):\n",
    "            ord_convert= ord(v)\n",
    "\n",
    "            total_list.append((element, ord_convert))\n",
    "\n",
    "            \n",
    "        sum_of.append((element, total))\n",
    "        print(\"Is this your list?!\\n\",user_words)\n",
    "        #print(f\"{v}-{ord_convert}\")       \n",
    "    return sum_of\n",
    "\n",
    "\n",
    "ord_chr()"
   ]
  },
  {
   "cell_type": "code",
   "execution_count": 80,
   "metadata": {},
   "outputs": [],
   "source": []
  },
  {
   "cell_type": "markdown",
   "metadata": {},
   "source": [
    "Ambiguous Dates\n",
    "Dates can be written differently depending where you are in the world 05.05.2021 (the fifth of may 2021) 03.05.2021 (the third of may 2021 -> Europe, the 5th of march 2021 -> US) 05.03.2021 (the fifth of march 2021 -> Europe, the 3th of may 2021 -> US)\n",
    "\n",
    "Sample Inputs:\n",
    "\n",
    "05.05.2021 -> non-ambiguous\n",
    "03.05.2021 -> ambiguous\n",
    "05.03.2021 -> ambiguous\n",
    "Write a function that detects if a date, written in the format NN.NN.NNNN where n is a digit [0-9] is ambiguous\n",
    "save all the dates of the year that are ambiguous and print to user\n",
    "Extra: write a function that converts the format NN.NN.NNNN to a date such as \"the 5th of May, 2021\" (HINT: Use string formatting, and lists of strings)\n"
   ]
  },
  {
   "cell_type": "code",
   "execution_count": null,
   "metadata": {},
   "outputs": [],
   "source": []
  },
  {
   "cell_type": "code",
   "execution_count": null,
   "metadata": {},
   "outputs": [],
   "source": []
  },
  {
   "cell_type": "markdown",
   "metadata": {},
   "source": [
    "Double Letters\n",
    "Analyze a string to check if it contains two of the same letter in a row. For example, the string \"hello\" has l twice in a row, while the string \"nono\" does not have two identical letters in a row.\n",
    "\n",
    "Define a function named double_letters that takes a single parameter. The parameter is a string. Your function must return True if there are two identical letters in a row in the string, and False otherwise.\n",
    "\n",
    "Sample Inputs:\n",
    "\n",
    "hello -> True\n",
    "\n",
    "nono -> False\n",
    "\n",
    "sunday -> False\n",
    "\n",
    "racecar -> False\n"
   ]
  },
  {
   "cell_type": "code",
   "execution_count": 102,
   "metadata": {},
   "outputs": [
    {
     "data": {
      "text/plain": [
       "False"
      ]
     },
     "execution_count": 102,
     "metadata": {},
     "output_type": "execute_result"
    }
   ],
   "source": [
    "      \n",
    "def double_letters(string):\n",
    "    lst=[]\n",
    "    for i in string:\n",
    "        lst.append(i)\n",
    "    x = 0\n",
    "    while x < len(lst) - 1:  \n",
    "        if lst[x] == lst[x+1]:\n",
    "            return True         \n",
    "        x = x+1\n",
    "    return False\n",
    "\n",
    "double_letters(\"hello\")\n",
    "double_letters(\"nono\")  \n",
    "double_letters(\"sunday\")  \n",
    "double_letters(\"racecar\")  "
   ]
  },
  {
   "cell_type": "code",
   "execution_count": 99,
   "metadata": {},
   "outputs": [
    {
     "data": {
      "text/plain": [
       "False"
      ]
     },
     "execution_count": 99,
     "metadata": {},
     "output_type": "execute_result"
    }
   ],
   "source": []
  },
  {
   "cell_type": "markdown",
   "metadata": {},
   "source": [
    "Converting Numpy Array Datatypes\n",
    "The following list represents tempuratures in New York\n",
    "\n",
    "tempuratures = ['76.5', '79.1','80.3', '78.3','75.6', '73.2']\n",
    "\n",
    "Write a function that takes a string list of tempuratures\n",
    "Convert that string list into a list of floats and calculate the average\n",
    "Hints:\n",
    "use .astype()"
   ]
  },
  {
   "cell_type": "code",
   "execution_count": 85,
   "metadata": {},
   "outputs": [
    {
     "name": "stdout",
     "output_type": "stream",
     "text": [
      "77.16666666666666\n"
     ]
    }
   ],
   "source": [
    "import numpy as np\n",
    "#import pandas as pd\n",
    "tempuratures = ['76.5', '79.1','80.3', '78.3','75.6', '73.2']\n",
    "def string_floats(lst):    \n",
    "    list_con = [ float(item) for item in lst]\n",
    "    lc_floats = np.array(list_con)\n",
    "    avg_lcf = np.average(lc_floats)\n",
    "    print(avg_lcf)  \n",
    "string_floats(tempuratures)   "
   ]
  },
  {
   "cell_type": "code",
   "execution_count": null,
   "metadata": {},
   "outputs": [],
   "source": []
  }
 ],
 "metadata": {
  "kernelspec": {
   "display_name": "Python 3",
   "language": "python",
   "name": "python3"
  },
  "language_info": {
   "codemirror_mode": {
    "name": "ipython",
    "version": 3
   },
   "file_extension": ".py",
   "mimetype": "text/x-python",
   "name": "python",
   "nbconvert_exporter": "python",
   "pygments_lexer": "ipython3",
   "version": "3.8.5"
  }
 },
 "nbformat": 4,
 "nbformat_minor": 4
}
