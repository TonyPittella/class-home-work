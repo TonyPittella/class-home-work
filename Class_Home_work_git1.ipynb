{
 "cells": [
  {
   "cell_type": "markdown",
   "metadata": {},
   "source": [
    "Compound Interest\n",
    "Write a function that computes the compound interest of an intial investment, using principle rate and time\n",
    "\n",
    "Formula for compound interest: A = P(1 + R/100) t\n",
    "\n",
    "Where, A is amount P is principle amount R is the rate and T is the time span.\n",
    "\n",
    "Part 2: Convert function to a method of a class i.e. (class Finances, calc_compound_interest)\n",
    "\n"
   ]
  },
  {
   "cell_type": "code",
   "execution_count": 2,
   "metadata": {},
   "outputs": [
    {
     "name": "stdout",
     "output_type": "stream",
     "text": [
      "Compound interest is 8.011513424892918e+212\n"
     ]
    }
   ],
   "source": [
    "def calc_compound_interest(time, principle, rate):\n",
    "    amount = principle * (pow((1 + rate / 100), time))\n",
    "    c_i = amount - principle\n",
    "    print(\"Compound interest is\", c_i)   \n",
    "calc_compound_interest(10000, 10.25, 5)"
   ]
  },
  {
   "cell_type": "code",
   "execution_count": null,
   "metadata": {},
   "outputs": [],
   "source": [
    "class Finance:\n",
    "    def __init__(self, time, principle, rate):\n",
    "        self.time = time\n",
    "        self.principle =principle\n",
    "        self.rate =rate\n",
    "        \n",
    "    def calc_compound_interest(time, principle, rate):\n",
    "        amount = principle * (pow((1 + rate / 100), time))\n",
    "        CI = amount - principle\n",
    "        print(\"Compound interest is\", CI)\n",
    "#     def __str__():"
   ]
  },
  {
   "cell_type": "markdown",
   "metadata": {},
   "source": [
    "ASCII Calculator\n",
    "ASCII (American Standard Code for Information Interchange), is a character encoding standard for electronic communication. ASCII codes represent text in computers, telecommunications equipment, and other devices.\n",
    "\n",
    "There is a function for finding the ascii value of a character here: https://docs.python.org/3/library/functions.html\n",
    "\n",
    "Write a function that asks the user for input, and then computes the sum of all the ascii values of the characters.\n",
    "\n",
    "\"hello\" -> 104 + 101 + 108 + 108 + 111 = 532\n",
    "\n",
    "Part 2: Given a list of words (from user input) determine which word has the highest ascii value."
   ]
  },
  {
   "cell_type": "code",
   "execution_count": null,
   "metadata": {},
   "outputs": [],
   "source": [
    "import pandas as pd\n",
    "# def ord_chr():\n",
    "#     user_words = []\n",
    "#     n = int(input(\"Enter the list size : \\n\"))\n",
    "#     total_list = []\n",
    "#     total=0\n",
    "#     for num in range(n):\n",
    "#         element = str(input(\"Hey type a word in here...\\n\"))\n",
    "#         user_words.append(element)\n",
    "#         ord_convert = sum(ord(v) for v in element)\n",
    "#         total_list.append((element, ord_convert))\n",
    "#         print(\"Is this your list?!\\n\",total_list)\n",
    "#         #print(f”{v}-{ord_convert}“)\n",
    "#     return total_list\n",
    "# results = ord_chr()\n",
    "# print(results)\n",
    "# ord_chr()"
   ]
  },
  {
   "cell_type": "code",
   "execution_count": 1,
   "metadata": {},
   "outputs": [
    {
     "name": "stdout",
     "output_type": "stream",
     "text": [
      "(532, ['h = 104', 'e = 101', 'l = 108', 'l = 108', 'o = 111'])\n",
      "After calculating all the ascii codes \"goodbye\" was the word with the highest value\n"
     ]
    }
   ],
   "source": [
    "def ascii_calc(text):\n",
    "    list_tracker = []\n",
    "    calc = 0\n",
    "    for x in text:\n",
    "        calc += ord(x)\n",
    "        list_tracker.append(f'{x} = {ord(x)}')\n",
    "    return calc, list_tracker\n",
    "print(ascii_calc('hello'))\n",
    "\n",
    "\n",
    "def ascii_list(lst):\n",
    "    greatest = 0\n",
    "    greatest_index = 0\n",
    "    for index, text in enumerate(lst):\n",
    "        calc = 0\n",
    "        for x in text:\n",
    "            calc += ord(x)\n",
    "        if calc > greatest:\n",
    "            greatest = calc\n",
    "            greatest_index = index\n",
    "    return(f'After calculating all the ascii codes \"{lst[greatest_index]}\" was the word with the highest value')\n",
    "print(ascii_list(['hello', 'goodbye', 'you', 'people']))"
   ]
  },
  {
   "cell_type": "markdown",
   "metadata": {},
   "source": [
    "Ambiguous Dates\n",
    "Dates can be written differently depending where you are in the world 05.05.2021 (the fifth of may 2021) 03.05.2021 (the third of may 2021 -> Europe, the 5th of march 2021 -> US) 05.03.2021 (the fifth of march 2021 -> Europe, the 3th of may 2021 -> US)\n",
    "\n",
    "Sample Inputs:\n",
    "\n",
    "05.05.2021 -> non-ambiguous\n",
    "03.05.2021 -> ambiguous\n",
    "05.03.2021 -> ambiguous\n",
    "\n",
    "Write a function that detects if a date, written in the format NN.NN.NNNN where n is a digit [0-9] is ambiguous\n",
    "\n",
    "save all the dates of the year that are ambiguous and print to user\n",
    "\n",
    "Extra: write a function that converts the format NN.NN.NNNN to a date such as \"the 5th of May, 2021\" (HINT: Use string formatting, and lists of strings)\n"
   ]
  },
  {
   "cell_type": "code",
   "execution_count": 84,
   "metadata": {},
   "outputs": [],
   "source": [
    "from math import prod\n",
    "\n",
    "date1 = ' 05.13.2021 '\n",
    "date2 = ' 05.05.2021 '\n",
    "date3 = ' 13.05.2021 '\n",
    "date4 = ' 30.05.2021 '\n",
    "date5 = ' 05.30.2021 '\n",
    "date6 = ' 05.03.2021 '\n",
    "ambig=[]\n",
    "def date_checker(date_to_check):\n",
    "    date_to_check = date_to_check.strip()\n",
    "    date_parts = date_to_check.split('.')\n",
    "    print(date_parts)\n",
    "    #save_the_date.append(date_parts)\n",
    "    if date_parts[0] == date_parts[1]:\n",
    "        return \"Not ambiguous\" \n",
    "    count = 0\n",
    "    for x in date_parts[:2]:         \n",
    "        if int(x) < 13:  \n",
    "            ambig.append(x)\n",
    "            count+=1\n",
    "    if count ==2:\n",
    "        return\"its ambiguous\"\n",
    "    return \"Not ambiguous\"\n",
    "\n",
    "\n",
    "#print(ambi_days_ahead(start,end))\n"
   ]
  },
  {
   "cell_type": "code",
   "execution_count": 97,
   "metadata": {},
   "outputs": [
    {
     "name": "stdout",
     "output_type": "stream",
     "text": [
      "['1.1.2021', '1.2.2021', '1.3.2021', '1.4.2021', '1.5.2021', '1.6.2021', '1.7.2021', '1.8.2021', '1.9.2021', '1.10.2021', '1.11.2021', '1.12.2021', '2.1.2021', '2.2.2021', '2.3.2021', '2.4.2021', '2.5.2021', '2.6.2021', '2.7.2021', '2.8.2021', '2.9.2021', '2.10.2021', '2.11.2021', '2.12.2021', '3.1.2021', '3.2.2021', '3.3.2021', '3.4.2021', '3.5.2021', '3.6.2021', '3.7.2021', '3.8.2021', '3.9.2021', '3.10.2021', '3.11.2021', '3.12.2021', '4.1.2021', '4.2.2021', '4.3.2021', '4.4.2021', '4.5.2021', '4.6.2021', '4.7.2021', '4.8.2021', '4.9.2021', '4.10.2021', '4.11.2021', '4.12.2021', '5.1.2021', '5.2.2021', '5.3.2021', '5.4.2021', '5.5.2021', '5.6.2021', '5.7.2021', '5.8.2021', '5.9.2021', '5.10.2021', '5.11.2021', '5.12.2021', '6.1.2021', '6.2.2021', '6.3.2021', '6.4.2021', '6.5.2021', '6.6.2021', '6.7.2021', '6.8.2021', '6.9.2021', '6.10.2021', '6.11.2021', '6.12.2021', '7.1.2021', '7.2.2021', '7.3.2021', '7.4.2021', '7.5.2021', '7.6.2021', '7.7.2021', '7.8.2021', '7.9.2021', '7.10.2021', '7.11.2021', '7.12.2021', '8.1.2021', '8.2.2021', '8.3.2021', '8.4.2021', '8.5.2021', '8.6.2021', '8.7.2021', '8.8.2021', '8.9.2021', '8.10.2021', '8.11.2021', '8.12.2021', '9.1.2021', '9.2.2021', '9.3.2021', '9.4.2021', '9.5.2021', '9.6.2021', '9.7.2021', '9.8.2021', '9.9.2021', '9.10.2021', '9.11.2021', '9.12.2021', '10.1.2021', '10.2.2021', '10.3.2021', '10.4.2021', '10.5.2021', '10.6.2021', '10.7.2021', '10.8.2021', '10.9.2021', '10.10.2021', '10.11.2021', '10.12.2021', '11.1.2021', '11.2.2021', '11.3.2021', '11.4.2021', '11.5.2021', '11.6.2021', '11.7.2021', '11.8.2021', '11.9.2021', '11.10.2021', '11.11.2021', '11.12.2021', '12.1.2021', '12.2.2021', '12.3.2021', '12.4.2021', '12.5.2021', '12.6.2021', '12.7.2021', '12.8.2021', '12.9.2021', '12.10.2021', '12.11.2021', '12.12.2021', '13.1.2021', '13.2.2021', '13.3.2021', '13.4.2021', '13.5.2021', '13.6.2021', '13.7.2021', '13.8.2021', '13.9.2021', '13.10.2021', '13.11.2021', '13.12.2021', '14.1.2021', '14.2.2021', '14.3.2021', '14.4.2021', '14.5.2021', '14.6.2021', '14.7.2021', '14.8.2021', '14.9.2021', '14.10.2021', '14.11.2021', '14.12.2021', '15.1.2021', '15.2.2021', '15.3.2021', '15.4.2021', '15.5.2021', '15.6.2021', '15.7.2021', '15.8.2021', '15.9.2021', '15.10.2021', '15.11.2021', '15.12.2021', '16.1.2021', '16.2.2021', '16.3.2021', '16.4.2021', '16.5.2021', '16.6.2021', '16.7.2021', '16.8.2021', '16.9.2021', '16.10.2021', '16.11.2021', '16.12.2021', '17.1.2021', '17.2.2021', '17.3.2021', '17.4.2021', '17.5.2021', '17.6.2021', '17.7.2021', '17.8.2021', '17.9.2021', '17.10.2021', '17.11.2021', '17.12.2021', '18.1.2021', '18.2.2021', '18.3.2021', '18.4.2021', '18.5.2021', '18.6.2021', '18.7.2021', '18.8.2021', '18.9.2021', '18.10.2021', '18.11.2021', '18.12.2021', '19.1.2021', '19.2.2021', '19.3.2021', '19.4.2021', '19.5.2021', '19.6.2021', '19.7.2021', '19.8.2021', '19.9.2021', '19.10.2021', '19.11.2021', '19.12.2021', '20.1.2021', '20.2.2021', '20.3.2021', '20.4.2021', '20.5.2021', '20.6.2021', '20.7.2021', '20.8.2021', '20.9.2021', '20.10.2021', '20.11.2021', '20.12.2021', '21.1.2021', '21.2.2021', '21.3.2021', '21.4.2021', '21.5.2021', '21.6.2021', '21.7.2021', '21.8.2021', '21.9.2021', '21.10.2021', '21.11.2021', '21.12.2021', '22.1.2021', '22.2.2021', '22.3.2021', '22.4.2021', '22.5.2021', '22.6.2021', '22.7.2021', '22.8.2021', '22.9.2021', '22.10.2021', '22.11.2021', '22.12.2021', '23.1.2021', '23.2.2021', '23.3.2021', '23.4.2021', '23.5.2021', '23.6.2021', '23.7.2021', '23.8.2021', '23.9.2021', '23.10.2021', '23.11.2021', '23.12.2021', '24.1.2021', '24.2.2021', '24.3.2021', '24.4.2021', '24.5.2021', '24.6.2021', '24.7.2021', '24.8.2021', '24.9.2021', '24.10.2021', '24.11.2021', '24.12.2021', '25.1.2021', '25.2.2021', '25.3.2021', '25.4.2021', '25.5.2021', '25.6.2021', '25.7.2021', '25.8.2021', '25.9.2021', '25.10.2021', '25.11.2021', '25.12.2021', '26.1.2021', '26.2.2021', '26.3.2021', '26.4.2021', '26.5.2021', '26.6.2021', '26.7.2021', '26.8.2021', '26.9.2021', '26.10.2021', '26.11.2021', '26.12.2021', '27.1.2021', '27.2.2021', '27.3.2021', '27.4.2021', '27.5.2021', '27.6.2021', '27.7.2021', '27.8.2021', '27.9.2021', '27.10.2021', '27.11.2021', '27.12.2021', '28.1.2021', '28.2.2021', '28.3.2021', '28.4.2021', '28.5.2021', '28.6.2021', '28.7.2021', '28.8.2021', '28.9.2021', '28.10.2021', '28.11.2021', '28.12.2021', '29.1.2021', '29.2.2021', '29.3.2021', '29.4.2021', '29.5.2021', '29.6.2021', '29.7.2021', '29.8.2021', '29.9.2021', '29.10.2021', '29.11.2021', '29.12.2021', '30.1.2021', '30.2.2021', '30.3.2021', '30.4.2021', '30.5.2021', '30.6.2021', '30.7.2021', '30.8.2021', '30.9.2021', '30.10.2021', '30.11.2021', '30.12.2021', '31.1.2021', '31.2.2021', '31.3.2021', '31.4.2021', '31.5.2021', '31.6.2021', '31.7.2021', '31.8.2021', '31.9.2021', '31.10.2021', '31.11.2021', '31.12.2021']\n"
     ]
    }
   ],
   "source": [
    "# def ambiguous_days(start=\"01.01.2021\", end=\"12.12.2021\"):\n",
    "#     days_in_month = 31\n",
    "#     months_in_year = 12\n",
    "#     dates_strings = []\n",
    "#     for day in range( 1, days_in_month + 1 ):\n",
    "#         for month in range( 1, months_in_year + 1 ):\n",
    "#             dates_strings.append( f\"{day}/{month}/2021\")\n",
    "#         return dates_strings\n",
    "# print(ambiguous_days(start=\"01.01.2021\", end=\"12.12.2021\"))\n",
    "\n",
    "\n",
    "def generate_all_dates_iterative(start='01.01.2021', end='12.12.2021'):\n",
    "    number_of_days_in_month = 31\n",
    "    number_of_months_in_year = 12\n",
    "    # number of months in year = 12\n",
    "    dates_as_strings = []\n",
    "\n",
    "    for day in range(1,number_of_days_in_month + 1):\n",
    "        for month in range(1,number_of_months_in_year + 1):\n",
    "            dates_as_strings.append(f\"{day}.{month}.2021\")\n",
    "    return dates_as_strings\n",
    "print(generate_all_dates_iterative(start='01.01.2021', end='12.12.2021'))"
   ]
  },
  {
   "cell_type": "code",
   "execution_count": 82,
   "metadata": {},
   "outputs": [],
   "source": []
  },
  {
   "cell_type": "code",
   "execution_count": 98,
   "metadata": {},
   "outputs": [
    {
     "name": "stdout",
     "output_type": "stream",
     "text": [
      "['01/02/2021', '01/03/2021', '01/04/2021', '01/05/2021', '01/06/2021', '01/07/2021', '01/08/2021', '01/09/2021', '01/10/2021', '01/11/2021', '01/12/2021', '02/01/2021', '02/03/2021', '02/04/2021', '02/05/2021', '02/06/2021', '02/07/2021', '02/08/2021', '02/09/2021', '02/10/2021', '02/11/2021', '02/12/2021', '03/01/2021', '03/02/2021', '03/04/2021', '03/05/2021', '03/06/2021', '03/07/2021', '03/08/2021', '03/09/2021', '03/10/2021', '03/11/2021', '03/12/2021', '04/01/2021', '04/02/2021', '04/03/2021', '04/05/2021', '04/06/2021', '04/07/2021', '04/08/2021', '04/09/2021', '04/10/2021', '04/11/2021', '04/12/2021', '05/01/2021', '05/02/2021', '05/03/2021', '05/04/2021', '05/06/2021', '05/07/2021', '05/08/2021', '05/09/2021', '05/10/2021', '05/11/2021', '05/12/2021', '06/01/2021', '06/02/2021', '06/03/2021', '06/04/2021', '06/05/2021', '06/07/2021', '06/08/2021', '06/09/2021', '06/10/2021', '06/11/2021', '06/12/2021', '07/01/2021', '07/02/2021', '07/03/2021', '07/04/2021', '07/05/2021', '07/06/2021', '07/08/2021', '07/09/2021', '07/10/2021', '07/11/2021', '07/12/2021', '08/01/2021', '08/02/2021', '08/03/2021', '08/04/2021', '08/05/2021', '08/06/2021', '08/07/2021', '08/09/2021', '08/10/2021', '08/11/2021', '08/12/2021', '09/01/2021', '09/02/2021', '09/03/2021', '09/04/2021', '09/05/2021', '09/06/2021', '09/07/2021', '09/08/2021', '09/10/2021', '09/11/2021', '09/12/2021', '10/01/2021', '10/02/2021', '10/03/2021', '10/04/2021', '10/05/2021', '10/06/2021', '10/07/2021', '10/08/2021', '10/09/2021', '10/11/2021', '10/12/2021', '11/01/2021', '11/02/2021', '11/03/2021', '11/04/2021', '11/05/2021', '11/06/2021', '11/07/2021', '11/08/2021', '11/09/2021', '11/10/2021', '11/12/2021', '12/01/2021', '12/02/2021', '12/03/2021', '12/04/2021', '12/05/2021', '12/06/2021', '12/07/2021', '12/08/2021', '12/09/2021', '12/10/2021', '12/11/2021']\n"
     ]
    }
   ],
   "source": []
  },
  {
   "cell_type": "code",
   "execution_count": 53,
   "metadata": {},
   "outputs": [
    {
     "name": "stdout",
     "output_type": "stream",
     "text": [
      "['05', '05', '2021']\n"
     ]
    },
    {
     "ename": "TypeError",
     "evalue": "'<' not supported between instances of 'str' and 'int'",
     "output_type": "error",
     "traceback": [
      "\u001b[0;31m---------------------------------------------------------------------------\u001b[0m",
      "\u001b[0;31mTypeError\u001b[0m                                 Traceback (most recent call last)",
      "\u001b[0;32m<ipython-input-53-5c2c8574ab0b>\u001b[0m in \u001b[0;36m<module>\u001b[0;34m\u001b[0m\n\u001b[1;32m     32\u001b[0m \u001b[0;34m\u001b[0m\u001b[0m\n\u001b[1;32m     33\u001b[0m     \u001b[0mprint\u001b[0m\u001b[0;34m(\u001b[0m\u001b[0;34mf\"The {date_parts[0]}th of {date_parts[1]}, {date_parts[2]}\"\u001b[0m\u001b[0;34m)\u001b[0m\u001b[0;34m\u001b[0m\u001b[0;34m\u001b[0m\u001b[0m\n\u001b[0;32m---> 34\u001b[0;31m \u001b[0mprint\u001b[0m\u001b[0;34m(\u001b[0m\u001b[0mdate_checker\u001b[0m\u001b[0;34m(\u001b[0m\u001b[0mdate2\u001b[0m\u001b[0;34m)\u001b[0m\u001b[0;34m)\u001b[0m\u001b[0;34m\u001b[0m\u001b[0;34m\u001b[0m\u001b[0m\n\u001b[0m\u001b[1;32m     35\u001b[0m \u001b[0;34m\u001b[0m\u001b[0m\n\u001b[1;32m     36\u001b[0m \u001b[0;34m\u001b[0m\u001b[0m\n",
      "\u001b[0;32m<ipython-input-53-5c2c8574ab0b>\u001b[0m in \u001b[0;36mdate_checker\u001b[0;34m(date_to_check)\u001b[0m\n\u001b[1;32m     18\u001b[0m     \u001b[0mprint\u001b[0m\u001b[0;34m(\u001b[0m\u001b[0mdate_parts\u001b[0m\u001b[0;34m)\u001b[0m\u001b[0;34m\u001b[0m\u001b[0;34m\u001b[0m\u001b[0m\n\u001b[1;32m     19\u001b[0m     \u001b[0;32mfor\u001b[0m \u001b[0mx\u001b[0m \u001b[0;32min\u001b[0m \u001b[0mdate_parts\u001b[0m\u001b[0;34m[\u001b[0m\u001b[0;34m:\u001b[0m\u001b[0;36m2\u001b[0m\u001b[0;34m]\u001b[0m\u001b[0;34m:\u001b[0m\u001b[0;34m\u001b[0m\u001b[0;34m\u001b[0m\u001b[0m\n\u001b[0;32m---> 20\u001b[0;31m         \u001b[0;32mif\u001b[0m \u001b[0mdate_parts\u001b[0m\u001b[0;34m[\u001b[0m\u001b[0;36m0\u001b[0m\u001b[0;34m]\u001b[0m \u001b[0;34m<\u001b[0m \u001b[0;36m13\u001b[0m\u001b[0;34m:\u001b[0m\u001b[0;34m\u001b[0m\u001b[0;34m\u001b[0m\u001b[0m\n\u001b[0m\u001b[1;32m     21\u001b[0m             \u001b[0mwhats_month\u001b[0m\u001b[0;34m.\u001b[0m\u001b[0mappend\u001b[0m\u001b[0;34m(\u001b[0m\u001b[0mdate_parts\u001b[0m\u001b[0;34m[\u001b[0m\u001b[0;36m0\u001b[0m\u001b[0;34m]\u001b[0m\u001b[0;34m)\u001b[0m\u001b[0;34m\u001b[0m\u001b[0;34m\u001b[0m\u001b[0m\n\u001b[1;32m     22\u001b[0m         \u001b[0mprint\u001b[0m\u001b[0;34m(\u001b[0m\u001b[0mwhats_month\u001b[0m\u001b[0;34m)\u001b[0m\u001b[0;34m\u001b[0m\u001b[0;34m\u001b[0m\u001b[0m\n",
      "\u001b[0;31mTypeError\u001b[0m: '<' not supported between instances of 'str' and 'int'"
     ]
    }
   ],
   "source": [
    "date1 = ' 05.13.2021 '\n",
    "date2 = ' 05.05.2021 '\n",
    "date3 = ' 13.05.2021 '\n",
    "date4 = ' 30.05.2021 '\n",
    "date5 = ' 05.30.2021 '\n",
    "date6 = ' 05.03.2021 '\n",
    "\n",
    "# ambig=[]\n",
    "# not_ambig = []\n",
    "\n",
    "whats_day = []\n",
    "whats_month = []\n",
    "\n",
    "def date_checker(date_to_check):\n",
    "    date_to_check = date_to_check.strip()\n",
    "    date_parts = date_to_check.split('.')\n",
    "    print(date_parts)\n",
    "    for x in date_parts[:2]:         \n",
    "        if date_parts[0] < 13:  \n",
    "            whats_month.append(date_parts[0])\n",
    "        print(whats_month)\n",
    "        for m in month_:\n",
    "            if m == date_parts[0]:\n",
    "                whats_month.append(m)\n",
    "            print(whats_month)\n",
    "        \n",
    "            \n",
    "    print(f\"The {date_parts[0]}th of {date_parts[1]}, {date_parts[2]}\")\n",
    "print(date_checker(date2))\n",
    "\n",
    "\n",
    "\n",
    "\n",
    "def print_as_human_readable(day, month, year):            \n",
    "    month_ = [\"January\",\"Febuary\",\"March\",\"April\",\"May\",\"June\",\"July\",\"August\",\"September\",\"October\",\"November\",\"December\"]\n",
    "    month_dict = {idx+1:x for idx, x in enumerate(month_) }\n",
    "        \n",
    "print(print_as_human_readable(‘12’,‘12’,‘2021’))\n",
    "print(print_as_human_readable(‘25’,‘12’,‘2021’))\n",
    "\"\"\"\n",
    "output\n",
    "the 12th of December, 2021\n",
    "the 25th of December, 2021\n",
    "\"\"\""
   ]
  },
  {
   "cell_type": "code",
   "execution_count": null,
   "metadata": {},
   "outputs": [],
   "source": [
    "date1 = ' 05.13.2021 '\n",
    "date2 = ' 05.05.2021 '\n",
    "date3 = ' 13.05.2021 '\n",
    "date4 = ' 30.05.2021 '\n",
    "date5 = ' 05.30.2021 '\n",
    "date6 = ' 05.03.2021 '\n",
    "ambig=[]\n",
    "def date_checker(date_to_check):\n",
    "    date_to_check = date_to_check.strip()\n",
    "    date_parts = date_to_check.split('.')\n",
    "    print(date_parts)\n",
    "    #save_the_date.append(date_parts)\n",
    "    if date_parts[0] == date_parts[1]:\n",
    "        return \"Not ambiguous\" \n",
    "    count = 0\n",
    "    for x in date_parts[:2]:         \n",
    "        if int(x) < 13:  \n",
    "            ambig.append(x)\n",
    "            count+=1\n",
    "    if count ==2:\n",
    "        return\"its ambiguous\"\n",
    "    return \"Not ambiguous\"\n",
    "print(date_checker(date6))\n"
   ]
  },
  {
   "cell_type": "code",
   "execution_count": 31,
   "metadata": {},
   "outputs": [
    {
     "name": "stdout",
     "output_type": "stream",
     "text": [
      "['05', '15', '2021']\n",
      "['15']\n",
      "['05', '2021']\n"
     ]
    }
   ],
   "source": [
    "# date1 = ' 05.15.2021 '\n",
    "# #save_the_date=[]\n",
    "# ambig=[]\n",
    "# not_ambig=[]\n",
    "# year_ = []\n",
    "# def date_checker(date_to_check):\n",
    "#     date_to_check = date_to_check.strip()\n",
    "#     date_parts = date_to_check.split('.')\n",
    "#     print(date_parts)\n",
    "#     #save_the_date.append(date_parts)\n",
    "#     for x in date_parts:\n",
    "#         if len(x) == 4:\n",
    "#             year_.append(x)           \n",
    "#         if int(x) > 12 and len(x) == 2 :         \n",
    "#             ambig.append(x)\n",
    "#         else:\n",
    "#             not_ambig.append(x)\n",
    "#     print(ambig)\n",
    "#     print(not_ambig)\n",
    "#     #print(year_)\n",
    "#     #print(save_the_date)\n",
    "# date_checker(date1)"
   ]
  },
  {
   "cell_type": "code",
   "execution_count": 26,
   "metadata": {},
   "outputs": [
    {
     "data": {
      "text/plain": [
       "int"
      ]
     },
     "execution_count": 26,
     "metadata": {},
     "output_type": "execute_result"
    }
   ],
   "source": [
    "type(len('1'))"
   ]
  },
  {
   "cell_type": "markdown",
   "metadata": {},
   "source": [
    "Double Letters\n",
    "Analyze a string to check if it contains two of the same letter in a row. For example, the string \"hello\" has l twice in a row, while the string \"nono\" does not have two identical letters in a row.\n",
    "\n",
    "Define a function named double_letters that takes a single parameter. The parameter is a string. Your function must return True if there are two identical letters in a row in the string, and False otherwise.\n",
    "\n",
    "Sample Inputs:\n",
    "\n",
    "hello -> True\n",
    "\n",
    "nono -> False\n",
    "\n",
    "sunday -> False\n",
    "\n",
    "racecar -> False\n"
   ]
  },
  {
   "cell_type": "code",
   "execution_count": 3,
   "metadata": {},
   "outputs": [
    {
     "data": {
      "text/plain": [
       "False"
      ]
     },
     "execution_count": 3,
     "metadata": {},
     "output_type": "execute_result"
    }
   ],
   "source": [
    "      \n",
    "def double_letters(string):\n",
    "#     lst=[]\n",
    "#     for i in string:\n",
    "#         lst.append(i)\n",
    "#     x = 0\n",
    "#     while x < len(lst) - 1:  \n",
    "#         if lst[x] == lst[x+1]:\n",
    "#             return True         \n",
    "#         x = x+1\n",
    "\n",
    "    x = 0\n",
    "    while x < len(string) - 1:  \n",
    "        if string[x] == string[x+1]:\n",
    "            return True         \n",
    "        x = x+1\n",
    "    return False\n",
    "\n",
    "#listcomp\n",
    "# def find_double_letters3(word):\n",
    "#     return len([x for x in word if x*2 in word]) >= 1\n",
    "# print(find_double_letters3('nono'))\n",
    "# print(find_double_letters3('hello'))\n",
    "# print(find_double_letters3('racecar'))\n",
    "\n",
    "\n",
    "\n",
    "\n",
    "double_letters(\"hello\")\n",
    "double_letters(\"nono\")  \n",
    "double_letters(\"sunday\")  \n",
    "double_letters(\"racecar\")  "
   ]
  },
  {
   "cell_type": "code",
   "execution_count": null,
   "metadata": {},
   "outputs": [],
   "source": []
  },
  {
   "cell_type": "markdown",
   "metadata": {},
   "source": [
    "Converting Numpy Array Datatypes\n",
    "The following list represents tempuratures in New York\n",
    "\n",
    "tempuratures = ['76.5', '79.1','80.3', '78.3','75.6', '73.2']\n",
    "\n",
    "Write a function that takes a string list of tempuratures\n",
    "Convert that string list into a list of floats and calculate the average\n",
    "Hints:\n",
    "use .astype()"
   ]
  },
  {
   "cell_type": "code",
   "execution_count": 7,
   "metadata": {},
   "outputs": [
    {
     "name": "stdout",
     "output_type": "stream",
     "text": [
      "77.16666666666666\n",
      "77.16666666666666\n"
     ]
    }
   ],
   "source": [
    "import numpy as np\n",
    "#import pandas as pd\n",
    "tempuratures = ['76.5', '79.1','80.3', '78.3','75.6', '73.2']\n",
    "def string_floats(lst):    \n",
    "    list_con = [ float(item) for item in lst]\n",
    "    lc_floats = np.array(list_con)\n",
    "    avg_lcf = np.average(lc_floats)\n",
    "    print(avg_lcf)  \n",
    "string_floats(tempuratures)   \n",
    "\n",
    "\n",
    "\n",
    "#\n",
    "def calc_avg(tempuratures):\n",
    "    return np.array(tempuratures).astype('float').mean()\n",
    "print(calc_avg(tempuratures))\n",
    "\n"
   ]
  },
  {
   "cell_type": "code",
   "execution_count": null,
   "metadata": {},
   "outputs": [],
   "source": []
  }
 ],
 "metadata": {
  "kernelspec": {
   "display_name": "Python 3",
   "language": "python",
   "name": "python3"
  },
  "language_info": {
   "codemirror_mode": {
    "name": "ipython",
    "version": 3
   },
   "file_extension": ".py",
   "mimetype": "text/x-python",
   "name": "python",
   "nbconvert_exporter": "python",
   "pygments_lexer": "ipython3",
   "version": "3.8.5"
  }
 },
 "nbformat": 4,
 "nbformat_minor": 4
}
